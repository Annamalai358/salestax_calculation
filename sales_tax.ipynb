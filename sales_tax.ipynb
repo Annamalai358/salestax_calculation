{
  "nbformat": 4,
  "nbformat_minor": 0,
  "metadata": {
    "colab": {
      "name": "sales tax.ipynb",
      "provenance": []
    },
    "kernelspec": {
      "name": "python3",
      "display_name": "Python 3"
    },
    "language_info": {
      "name": "python"
    }
  },
  "cells": [
    {
      "cell_type": "code",
      "source": [
        "class Bill_amount:\n",
        "  def __init__(self,price,quantity):\n",
        "    self.price=price\n",
        "    self.quantity=quantity\n",
        "  def total_bill(self):\n",
        "      self.amount=self.price * self.quantity\n",
        "      return(self.amount)\n",
        "\n",
        "class SalesTax(Bill_amount):\n",
        "  def __init__(self,price,quantity):\n",
        "    Bill_amount.__init__(self,price,quantity)\n",
        "\n",
        "  def total_tax(self):\n",
        "    tax=(15* self.price * self.quantity)/100\n",
        "    return(tax)\n",
        "\n",
        "\n",
        "number=int(input(\"ENTER THE NUMBER OF ITEMS \"))\n",
        "list_quantity=[]\n",
        "list_name=[]\n",
        "list_price=[]\n",
        "list_op=[]\n",
        "exempted_items=[\"pen\",\"book\",\"sharpener\",\"eraser\",\"glue\"]\n",
        "print(\"ENTER ITEMS\")\n",
        "for i in range(number):\n",
        "  items=input().split()\n",
        "  list_quantity.append(int(items[0]))\n",
        "  list_name.append(items[1])\n",
        "  list_price.append(int(items[3]))\n",
        "\n",
        "\n",
        "for i in range(number):\n",
        "  obj1=SalesTax(list_price[i],list_quantity[i])\n",
        "  if(list_name[i] in exempted_items):\n",
        "    op=obj1.total_bill()\n",
        "  else:\n",
        "    op=obj1.total_tax()\n",
        "  list_op.append(op)\n",
        "\n",
        "print(\"TOTAL AMOUNT IS\",sum(list_op))\n",
        "\n",
        "\n",
        "\n"
      ],
      "metadata": {
        "colab": {
          "base_uri": "https://localhost:8080/"
        },
        "id": "3h_9vgB0hIR3",
        "outputId": "637243ed-19de-4d5d-9502-5536d83032db"
      },
      "execution_count": 37,
      "outputs": [
        {
          "output_type": "stream",
          "name": "stdout",
          "text": [
            "ENTER THE NUMBER OF ITEMS 1\n",
            "ENTER ITEMS\n",
            "1 wfwe is 30\n",
            "TOTAL AMOUNT IS 34.5\n"
          ]
        }
      ]
    },
    {
      "cell_type": "code",
      "source": [
        ""
      ],
      "metadata": {
        "id": "6pGRiTjDhIVU"
      },
      "execution_count": null,
      "outputs": []
    },
    {
      "cell_type": "code",
      "source": [
        ""
      ],
      "metadata": {
        "id": "oRlDky3yhIZS"
      },
      "execution_count": null,
      "outputs": []
    },
    {
      "cell_type": "code",
      "source": [
        ""
      ],
      "metadata": {
        "id": "xVmFqDWHhIcY"
      },
      "execution_count": null,
      "outputs": []
    }
  ]
}