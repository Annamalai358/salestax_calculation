{
  "nbformat": 4,
  "nbformat_minor": 0,
  "metadata": {
    "colab": {
      "name": "sales tax.ipynb",
      "provenance": [],
      "authorship_tag": "ABX9TyOzBcLrX5za4Rp+bMMQeb1h"
    },
    "kernelspec": {
      "name": "python3",
      "display_name": "Python 3"
    },
    "language_info": {
      "name": "python"
    }
  },
  "cells": [
    {
      "cell_type": "code",
      "source": [
        "class Bill_amount:\n",
        "  def __init__(self,price,quantity):\n",
        "    self.price=price\n",
        "    self.quantity=quantity\n",
        "  def total_bill(self):\n",
        "      self.amount=self.price * self.quantity\n",
        "      return(self.amount)\n",
        "\n",
        "class SalesTax(Bill_amount):\n",
        "  def __init__(self,price,quantity):\n",
        "    Bill_amount.__init__(self,price,quantity)\n",
        "\n",
        "  def total_tax(self):\n",
        "    tax=(15* self.price * self.quantity)/100\n",
        "    return(tax)\n",
        "\n",
        "\n",
        "number=int(input(\"ENTER THE NUMBER OF ITEMS \"))\n",
        "list_quantity=[]\n",
        "list_name=[]\n",
        "list_price=[]\n",
        "list_op=[]\n",
        "exempted_items=[\"pen\",\"book\",\"sharpener\",\"eraser\",\"glue\"]\n",
        "print(\"ENTER ITEMS\")\n",
        "for i in range(number):\n",
        "  items=input().split()\n",
        "  list_quantity.append(int(items[0]))\n",
        "  list_name.append(items[1])\n",
        "  list_price.append(int(items[3]))\n",
        "\n",
        "\n",
        "for i in range(number):\n",
        "  obj1=SalesTax(list_price[i],list_quantity[i])\n",
        "  if(list_name[i] in exempted_items):\n",
        "    op=obj1.total_bill()\n",
        "  else:\n",
        "    op=obj1.total_tax()\n",
        "  list_op.append(op)\n",
        "\n",
        "print(\"TOTAL AMOUNT IS\",sum(list_op))\n",
        "\n",
        "\n",
        "\n"
      ],
      "metadata": {
        "colab": {
          "base_uri": "https://localhost:8080/"
        },
        "id": "3h_9vgB0hIR3",
        "outputId": "e4648e13-1286-4dfc-aef3-aac6f4dc184e"
      },
      "execution_count": 38,
      "outputs": [
        {
          "output_type": "stream",
          "name": "stdout",
          "text": [
            "ENTER THE NUMBER OF ITEMS 5\n",
            "ENTER ITEMS\n",
            "1 pen at 30\n",
            "3 scale at 10\n",
            "2 pencil at 5\n",
            "4 umbrella at 100\n",
            "5 eraser at 5\n",
            "TOTAL AMOUNT IS 121.0\n"
          ]
        }
      ]
    },
    {
      "cell_type": "code",
      "source": [
        ""
      ],
      "metadata": {
        "id": "6pGRiTjDhIVU"
      },
      "execution_count": null,
      "outputs": []
    },
    {
      "cell_type": "code",
      "source": [
        ""
      ],
      "metadata": {
        "id": "oRlDky3yhIZS"
      },
      "execution_count": null,
      "outputs": []
    },
    {
      "cell_type": "code",
      "source": [
        ""
      ],
      "metadata": {
        "id": "xVmFqDWHhIcY"
      },
      "execution_count": null,
      "outputs": []
    }
  ]
}